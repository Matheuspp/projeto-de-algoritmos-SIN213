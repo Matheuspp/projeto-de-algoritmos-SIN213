{
 "cells": [
  {
   "cell_type": "code",
   "execution_count": 1,
   "id": "cloudy-graph",
   "metadata": {},
   "outputs": [],
   "source": [
    "import matplotlib.pyplot as plt\n",
    "import pandas as pd\n",
    "import numpy as np"
   ]
  },
  {
   "cell_type": "code",
   "execution_count": 2,
   "id": "considerable-house",
   "metadata": {},
   "outputs": [],
   "source": [
    "df = pd.read_json('results.json')"
   ]
  },
  {
   "cell_type": "code",
   "execution_count": 3,
   "id": "sonic-fourth",
   "metadata": {},
   "outputs": [
    {
     "data": {
      "text/html": [
       "<div>\n",
       "<style scoped>\n",
       "    .dataframe tbody tr th:only-of-type {\n",
       "        vertical-align: middle;\n",
       "    }\n",
       "\n",
       "    .dataframe tbody tr th {\n",
       "        vertical-align: top;\n",
       "    }\n",
       "\n",
       "    .dataframe thead th {\n",
       "        text-align: right;\n",
       "    }\n",
       "</style>\n",
       "<table border=\"1\" class=\"dataframe\">\n",
       "  <thead>\n",
       "    <tr style=\"text-align: right;\">\n",
       "      <th></th>\n",
       "      <th>selection_sort</th>\n",
       "      <th>insertion_sort</th>\n",
       "      <th>shell_sort</th>\n",
       "      <th>merge_sort</th>\n",
       "    </tr>\n",
       "  </thead>\n",
       "  <tbody>\n",
       "    <tr>\n",
       "      <th>random</th>\n",
       "      <td>[0.00021100044250400003, 1.883290290832519, 18...</td>\n",
       "      <td>[1.0967254638671872e-05, 0.0009429454803460001...</td>\n",
       "      <td>[0.000108003616333, 0.013319969177246002, 0.18...</td>\n",
       "      <td>[0.00028777122497500003, 0.037545680999755006,...</td>\n",
       "    </tr>\n",
       "    <tr>\n",
       "      <th>crescente</th>\n",
       "      <td>[0.0017077922821040002, 1.641944885253906, 163...</td>\n",
       "      <td>[8.821487426757812e-06, 0.0008480548858640001,...</td>\n",
       "      <td>[9.751319885253908e-05, 0.012295722961425, 0.1...</td>\n",
       "      <td>[0.000258684158325, 0.034153699874877, 0.40937...</td>\n",
       "    </tr>\n",
       "    <tr>\n",
       "      <th>decrescente</th>\n",
       "      <td>[0.001834154129028, 1.720012187957763, 164.752...</td>\n",
       "      <td>[8.58306884765625e-06, 0.000875234603881, 0.00...</td>\n",
       "      <td>[9.560585021972658e-05, 0.012703895568847, 0.1...</td>\n",
       "      <td>[0.000246286392211, 0.036295175552368004, 0.41...</td>\n",
       "    </tr>\n",
       "  </tbody>\n",
       "</table>\n",
       "</div>"
      ],
      "text/plain": [
       "                                                selection_sort  \\\n",
       "random       [0.00021100044250400003, 1.883290290832519, 18...   \n",
       "crescente    [0.0017077922821040002, 1.641944885253906, 163...   \n",
       "decrescente  [0.001834154129028, 1.720012187957763, 164.752...   \n",
       "\n",
       "                                                insertion_sort  \\\n",
       "random       [1.0967254638671872e-05, 0.0009429454803460001...   \n",
       "crescente    [8.821487426757812e-06, 0.0008480548858640001,...   \n",
       "decrescente  [8.58306884765625e-06, 0.000875234603881, 0.00...   \n",
       "\n",
       "                                                    shell_sort  \\\n",
       "random       [0.000108003616333, 0.013319969177246002, 0.18...   \n",
       "crescente    [9.751319885253908e-05, 0.012295722961425, 0.1...   \n",
       "decrescente  [9.560585021972658e-05, 0.012703895568847, 0.1...   \n",
       "\n",
       "                                                    merge_sort  \n",
       "random       [0.00028777122497500003, 0.037545680999755006,...  \n",
       "crescente    [0.000258684158325, 0.034153699874877, 0.40937...  \n",
       "decrescente  [0.000246286392211, 0.036295175552368004, 0.41...  "
      ]
     },
     "execution_count": 3,
     "metadata": {},
     "output_type": "execute_result"
    }
   ],
   "source": [
    "df"
   ]
  },
  {
   "cell_type": "code",
   "execution_count": 4,
   "id": "precious-indie",
   "metadata": {},
   "outputs": [
    {
     "data": {
      "text/plain": [
       "[0.00021100044250400003,\n",
       " 1.883290290832519,\n",
       " 186.68009185791016,\n",
       " 16867.505512475967]"
      ]
     },
     "execution_count": 4,
     "metadata": {},
     "output_type": "execute_result"
    }
   ],
   "source": [
    "df['selection_sort'].values[0]"
   ]
  },
  {
   "cell_type": "code",
   "execution_count": 5,
   "id": "forced-pantyhose",
   "metadata": {},
   "outputs": [],
   "source": [
    "# funcão para plotar o gráfico de barras com acurácia de cada fold no conjunto de teste\n",
    "def plot_bar(accs, nets, name=\"plot2\"):\n",
    "    \n",
    "    x = np.arange(len(nets))  # the label locations\n",
    "    width = 0.333  # the width of the bars\n",
    "\n",
    "    fig, ax = plt.subplots(f)\n",
    "    rects1 = ax.bar(x - width/3, accs[0], width, label='Aleatório')\n",
    "    rects2 = ax.bar(x + width/3, accs[1], width, label='Crescente')\n",
    "    rects3 = ax.bar(x + width, accs[2], width, label='Decrescente')\n",
    "    ax.spines['right'].set_visible(False)\n",
    "    ax.spines['top'].set_visible(False)\n",
    "\n",
    "    # Add some text for labels, title and custom x-axis tick labels, etc.\n",
    "    ax.set_ylabel('Tempo (segundos)', fontweight=\"bold\")\n",
    "    ax.set_title('Selection Sort', fontweight=\"bold\")\n",
    "    ax.set_xticks(x)\n",
    "    ax.set_xticklabels(nets)\n",
    "    ax.legend(loc=\"upper right\", bbox_to_anchor=(1.3, 1.3))\n",
    "    \n",
    "    def autolabel(rects):\n",
    "        \"\"\"Attach a text label above each bar in *rects*, displaying its height.\"\"\"\n",
    "        for rect in rects:\n",
    "            height = rect.get_height()\n",
    "            ax.annotate('{}'.format(height),\n",
    "                        xy=(rect.get_x() + rect.get_width() / 2, height),\n",
    "                        xytext=(0, 3),  # 3 points vertical offset\n",
    "                        textcoords=\"offset points\",\n",
    "                        ha='center', va='bottom')\n",
    "\n",
    "\n",
    "    #autolabel(rects1)\n",
    "    #autolabel(rects2)\n",
    "    #autolabel(rects3)\n",
    "\n",
    "    fig.tight_layout()\n",
    "    plt.savefig(name, dpi=300)\n",
    "\n",
    "    plt.show()"
   ]
  },
  {
   "cell_type": "code",
   "execution_count": 6,
   "id": "spanish-prompt",
   "metadata": {},
   "outputs": [],
   "source": [
    "tempos = []\n",
    "for i in df['selection_sort'].values:\n",
    "    tempos.append(i)"
   ]
  },
  {
   "cell_type": "code",
   "execution_count": 7,
   "id": "surface-globe",
   "metadata": {},
   "outputs": [
    {
     "data": {
      "text/plain": [
       "[[0.00021100044250400003,\n",
       "  1.883290290832519,\n",
       "  186.68009185791016,\n",
       "  16867.505512475967],\n",
       " [0.0017077922821040002,\n",
       "  1.641944885253906,\n",
       "  163.3858346939087,\n",
       "  16409.59521126747],\n",
       " [0.001834154129028,\n",
       "  1.720012187957763,\n",
       "  164.75208497047424,\n",
       "  16719.030656576157]]"
      ]
     },
     "execution_count": 7,
     "metadata": {},
     "output_type": "execute_result"
    }
   ],
   "source": [
    "tempos"
   ]
  },
  {
   "cell_type": "code",
   "execution_count": 8,
   "id": "patent-ballet",
   "metadata": {},
   "outputs": [],
   "source": [
    "modos = ['100', '1000', '10000', '100000']"
   ]
  },
  {
   "cell_type": "code",
   "execution_count": 9,
   "id": "ceramic-scenario",
   "metadata": {},
   "outputs": [
    {
     "data": {
      "image/png": "[encoded data removed]",
      "text/plain": [
       "<Figure size 432x288 with 1 Axes>"
      ]
     },
     "metadata": {
      "needs_background": "light"
     },
     "output_type": "display_data"
    }
   ],
   "source": [
    "plot_bar(tempos, modos, name='selection_sort')"
   ]
  },
  {
   "cell_type": "code",
   "execution_count": null,
   "id": "decreased-robert",
   "metadata": {},
   "outputs": [],
   "source": []
  }
 ],
 "metadata": {
  "kernelspec": {
   "display_name": "Python 3",
   "language": "python",
   "name": "python3"
  },
  "language_info": {
   "codemirror_mode": {
    "name": "ipython",
    "version": 3
   },
   "file_extension": ".py",
   "mimetype": "text/x-python",
   "name": "python",
   "nbconvert_exporter": "python",
   "pygments_lexer": "ipython3",
   "version": "3.8.5"
  }
 },
 "nbformat": 4,
 "nbformat_minor": 5
}
